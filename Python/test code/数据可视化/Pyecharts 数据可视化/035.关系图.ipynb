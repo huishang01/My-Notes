{
 "cells": [
  {
   "cell_type": "markdown",
   "id": "3513bcac824ff6b2",
   "metadata": {},
   "source": [
    "### 关系图"
   ]
  },
  {
   "cell_type": "code",
   "execution_count": 3,
   "id": "1f635607d98b685",
   "metadata": {
    "ExecuteTime": {
     "end_time": "2025-03-17T09:09:54.132187Z",
     "start_time": "2025-03-17T09:09:54.120583Z"
    }
   },
   "outputs": [],
   "source": [
    "from pyecharts.charts import Graph\n",
    "from pyecharts import options as opts"
   ]
  },
  {
   "cell_type": "code",
   "execution_count": 5,
   "id": "4f52fe89ecb5045f",
   "metadata": {},
   "outputs": [],
   "source": [
    "nodes = [\n",
    "    {'name': '结点1', 'symbolSize': 10},\n",
    "    {'name': '结点2', 'symbolSize': 20},\n",
    "    {'name': '结点3', 'symbolSize': 30},\n",
    "    {'name': '结点4', 'symbolSize': 40},\n",
    "    {'name': '结点5', 'symbolSize': 50},\n",
    "    {'name': '结点6', 'symbolSize': 40},\n",
    "    {'name': '结点7', 'symbolSize': 30},\n",
    "    {'name': '结点8', 'symbolSize': 20},\n",
    "]\n",
    "\n",
    "links = []\n",
    "for i in nodes:\n",
    "    for j in nodes:\n",
    "        links.append({'source': i.get('name'), 'target': j.get('name')})"
   ]
  },
  {
   "cell_type": "code",
   "execution_count": 15,
   "id": "75c8a953-b55a-45d3-a1dc-ae0ee66fbab7",
   "metadata": {},
   "outputs": [],
   "source": [
    "graph = (\n",
    "    Graph()\n",
    "    .add(\n",
    "        '',\n",
    "        nodes=nodes,\n",
    "        links=links,\n",
    "        repulsion=8000\n",
    "    )\n",
    "    .render('Charts/35_Graph_01.html')\n",
    ")"
   ]
  },
  {
   "cell_type": "code",
   "execution_count": 21,
   "id": "a2ae11b4-3bbe-4015-952d-ab240cef2c21",
   "metadata": {},
   "outputs": [],
   "source": [
    "nodes_data = [\n",
    "    opts.GraphNode(name='结点1', symbol=10),\n",
    "    opts.GraphNode(name='结点2', symbol=20),\n",
    "    opts.GraphNode(name='结点3', symbol=30),\n",
    "    opts.GraphNode(name='结点4', symbol=40),\n",
    "    opts.GraphNode(name='结点5', symbol=50),\n",
    "    opts.GraphNode(name='结点6', symbol=60),\n",
    "]\n",
    "\n",
    "links_data = [\n",
    "    opts.GraphLink(source='结点1', target='结点2', value=2),\n",
    "    opts.GraphLink(source='结点2', target='结点3', value=3),\n",
    "    opts.GraphLink(source='结点3', target='结点4', value=4),\n",
    "    opts.GraphLink(source='结点4', target='结点5', value=5),\n",
    "    opts.GraphLink(source='结点5', target='结点6', value=6),\n",
    "    opts.GraphLink(source='结点6', target='结点1', value=7),\n",
    "]"
   ]
  },
  {
   "cell_type": "code",
   "execution_count": 28,
   "id": "63248c56-27bf-49c1-b3dc-8566468b7242",
   "metadata": {},
   "outputs": [],
   "source": [
    "graph = (\n",
    "    Graph()\n",
    "    .add(\n",
    "        '',\n",
    "        nodes=nodes_data,\n",
    "        links=links_data,\n",
    "        repulsion=4000,\n",
    "        edge_label=opts.LabelOpts(\n",
    "            is_show=True,\n",
    "            position='middle',\n",
    "            formatter='{b} 的数据 {c}',\n",
    "        ),\n",
    "    )\n",
    "    .render('Charts/35_Graph_02.html')\n",
    ")"
   ]
  },
  {
   "cell_type": "code",
   "execution_count": null,
   "id": "691b6244-82f8-4594-9655-ec578aebb276",
   "metadata": {},
   "outputs": [],
   "source": []
  }
 ],
 "metadata": {
  "kernelspec": {
   "display_name": "Python 3 (ipykernel)",
   "language": "python",
   "name": "python3"
  },
  "language_info": {
   "codemirror_mode": {
    "name": "ipython",
    "version": 3
   },
   "file_extension": ".py",
   "mimetype": "text/x-python",
   "name": "python",
   "nbconvert_exporter": "python",
   "pygments_lexer": "ipython3",
   "version": "3.12.4"
  }
 },
 "nbformat": 4,
 "nbformat_minor": 5
}
